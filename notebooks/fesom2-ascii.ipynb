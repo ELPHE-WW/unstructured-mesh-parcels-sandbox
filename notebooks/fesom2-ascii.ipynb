{
 "cells": [
  {
   "cell_type": "markdown",
   "id": "7d81f291-74a0-4798-917a-13f8d00b51d6",
   "metadata": {},
   "source": [
    "# FESOM2 (ASCII Mesh files)\n",
    "\n",
    "This notebook walks through methods for reading in the ASCII mesh files that are output by FESOM2. Descriptions of the mesh files are given in the [FESOM2 documentation](https://fesom2.readthedocs.io/en/latest/meshes/meshes.html). \n",
    "\n",
    "FESOM2 uses a 2-D unstructured grid that is vertically stacked (extruded) in a fixed number of layers. The ASCII files simply provide us with \n",
    "\n",
    "1. the latitude and longitude coordinates of the 2-D vertices alongside their index in the mesh (`nod2d.out`), \n",
    "2. the vertex indices that are associated with each triangular element, and\n",
    "3. the vertical levels used in the 3-d extrusion."
   ]
  }
 ],
 "metadata": {
  "kernelspec": {
   "display_name": "Python 3 (ipykernel)",
   "language": "python",
   "name": "python3"
  },
  "language_info": {
   "codemirror_mode": {
    "name": "ipython",
    "version": 3
   },
   "file_extension": ".py",
   "mimetype": "text/x-python",
   "name": "python",
   "nbconvert_exporter": "python",
   "pygments_lexer": "ipython3",
   "version": "3.10.12"
  }
 },
 "nbformat": 4,
 "nbformat_minor": 5
}
