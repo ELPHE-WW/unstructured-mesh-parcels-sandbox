{
 "cells": [
  {
   "cell_type": "markdown",
   "id": "3fe21961-c5cf-4d32-9bcb-d58c21cab171",
   "metadata": {},
   "source": [
    "# UXArray with FESOM2\n",
    "\n",
    "* FESOM2 ASCII files would need to be converted to NetCDF files. I believe the FESOM2 NetCDF files follow UGrid standard (https://uxarray.readthedocs.io/en/latest/user-guide/grid-formats.html#ugrid)\n",
    "\n",
    "* Can use pyfesom2 for reading in ASCII and converting to NetCDF ?"
   ]
  },
  {
   "cell_type": "markdown",
   "id": "057a114b-bdc2-45f3-8c4e-10f56c2ae9a9",
   "metadata": {},
   "source": [
    "## Converting FESOM2 ASCII to NetCDF"
   ]
  },
  {
   "cell_type": "code",
   "execution_count": 6,
   "id": "55656304-a93e-456a-9b9a-4a93b71c222f",
   "metadata": {},
   "outputs": [
    {
     "name": "stdout",
     "output_type": "stream",
     "text": [
      "Cloning into './pyfesom2'...\n",
      "remote: Enumerating objects: 2965, done.\u001b[K\n",
      "remote: Counting objects: 100% (1000/1000), done.\u001b[K\n",
      "remote: Compressing objects: 100% (456/456), done.\u001b[K\n",
      "remote: Total 2965 (delta 646), reused 782 (delta 543), pack-reused 1965 (from 1)\u001b[K\n",
      "Receiving objects: 100% (2965/2965), 64.47 MiB | 9.36 MiB/s, done.\n",
      "Resolving deltas: 100% (1938/1938), done.\n",
      "Switched to a new branch 'dev'\n",
      "/home/joe/projects/geomar/unstructured-mesh-parcels-sandbox/notebooks\n",
      "Obtaining file:///home/joe/projects/geomar/unstructured-mesh-parcels-sandbox/notebooks/pyfesom2\n",
      "  Preparing metadata (setup.py) ... \u001b[?25ldone\n",
      "\u001b[?25hRequirement already satisfied: cartopy in /home/joe/miniconda3/envs/uop_sandbox/lib/python3.12/site-packages (from pyfesom2==0.2.0) (0.24.1)\n",
      "Requirement already satisfied: cmocean in /home/joe/miniconda3/envs/uop_sandbox/lib/python3.12/site-packages (from pyfesom2==0.2.0) (4.0.3)\n",
      "Requirement already satisfied: dask in /home/joe/miniconda3/envs/uop_sandbox/lib/python3.12/site-packages (from pyfesom2==0.2.0) (2024.8.2)\n",
      "Requirement already satisfied: ipython in /home/joe/miniconda3/envs/uop_sandbox/lib/python3.12/site-packages (from pyfesom2==0.2.0) (8.27.0)\n",
      "Requirement already satisfied: joblib in /home/joe/miniconda3/envs/uop_sandbox/lib/python3.12/site-packages (from pyfesom2==0.2.0) (1.4.2)\n",
      "Requirement already satisfied: jupyter in /home/joe/miniconda3/envs/uop_sandbox/lib/python3.12/site-packages (from pyfesom2==0.2.0) (1.0.0)\n",
      "Requirement already satisfied: matplotlib in /home/joe/miniconda3/envs/uop_sandbox/lib/python3.12/site-packages (from pyfesom2==0.2.0) (3.9.2)\n",
      "Requirement already satisfied: netCDF4 in /home/joe/miniconda3/envs/uop_sandbox/lib/python3.12/site-packages (from pyfesom2==0.2.0) (1.7.1.post2)\n",
      "Requirement already satisfied: numba in /home/joe/miniconda3/envs/uop_sandbox/lib/python3.12/site-packages (from pyfesom2==0.2.0) (0.60.0)\n",
      "Requirement already satisfied: numpy in /home/joe/miniconda3/envs/uop_sandbox/lib/python3.12/site-packages (from pyfesom2==0.2.0) (1.26.4)\n",
      "Requirement already satisfied: pandas in /home/joe/miniconda3/envs/uop_sandbox/lib/python3.12/site-packages (from pyfesom2==0.2.0) (2.2.3)\n",
      "Requirement already satisfied: pyresample in /home/joe/miniconda3/envs/uop_sandbox/lib/python3.12/site-packages (from pyfesom2==0.2.0) (1.30.0)\n",
      "Requirement already satisfied: pytest in /home/joe/miniconda3/envs/uop_sandbox/lib/python3.12/site-packages (from pyfesom2==0.2.0) (7.4.4)\n",
      "Requirement already satisfied: scipy in /home/joe/miniconda3/envs/uop_sandbox/lib/python3.12/site-packages (from pyfesom2==0.2.0) (1.13.1)\n",
      "Requirement already satisfied: seawater in /home/joe/miniconda3/envs/uop_sandbox/lib/python3.12/site-packages (from pyfesom2==0.2.0) (3.3.5)\n",
      "Requirement already satisfied: shapely in /home/joe/miniconda3/envs/uop_sandbox/lib/python3.12/site-packages (from pyfesom2==0.2.0) (2.0.6)\n",
      "Requirement already satisfied: xarray in /home/joe/miniconda3/envs/uop_sandbox/lib/python3.12/site-packages (from pyfesom2==0.2.0) (2024.9.0)\n",
      "Requirement already satisfied: pyproj in /home/joe/miniconda3/envs/uop_sandbox/lib/python3.12/site-packages (from pyfesom2==0.2.0) (3.7.0)\n",
      "Collecting pymap3d (from pyfesom2==0.2.0)\n",
      "  Downloading pymap3d-3.1.0-py3-none-any.whl.metadata (8.7 kB)\n",
      "Requirement already satisfied: tqdm in /home/joe/miniconda3/envs/uop_sandbox/lib/python3.12/site-packages (from pyfesom2==0.2.0) (4.66.5)\n",
      "Requirement already satisfied: packaging>=21 in /home/joe/miniconda3/envs/uop_sandbox/lib/python3.12/site-packages (from cartopy->pyfesom2==0.2.0) (24.1)\n",
      "Requirement already satisfied: pyshp>=2.3 in /home/joe/miniconda3/envs/uop_sandbox/lib/python3.12/site-packages (from cartopy->pyfesom2==0.2.0) (2.3.1)\n",
      "Requirement already satisfied: contourpy>=1.0.1 in /home/joe/miniconda3/envs/uop_sandbox/lib/python3.12/site-packages (from matplotlib->pyfesom2==0.2.0) (1.2.0)\n",
      "Requirement already satisfied: cycler>=0.10 in /home/joe/miniconda3/envs/uop_sandbox/lib/python3.12/site-packages (from matplotlib->pyfesom2==0.2.0) (0.11.0)\n",
      "Requirement already satisfied: fonttools>=4.22.0 in /home/joe/miniconda3/envs/uop_sandbox/lib/python3.12/site-packages (from matplotlib->pyfesom2==0.2.0) (4.51.0)\n",
      "Requirement already satisfied: kiwisolver>=1.3.1 in /home/joe/miniconda3/envs/uop_sandbox/lib/python3.12/site-packages (from matplotlib->pyfesom2==0.2.0) (1.4.4)\n",
      "Requirement already satisfied: pillow>=8 in /home/joe/miniconda3/envs/uop_sandbox/lib/python3.12/site-packages (from matplotlib->pyfesom2==0.2.0) (10.4.0)\n",
      "Requirement already satisfied: pyparsing>=2.3.1 in /home/joe/miniconda3/envs/uop_sandbox/lib/python3.12/site-packages (from matplotlib->pyfesom2==0.2.0) (3.1.2)\n",
      "Requirement already satisfied: python-dateutil>=2.7 in /home/joe/miniconda3/envs/uop_sandbox/lib/python3.12/site-packages (from matplotlib->pyfesom2==0.2.0) (2.9.0.post0)\n",
      "Requirement already satisfied: certifi in /home/joe/miniconda3/envs/uop_sandbox/lib/python3.12/site-packages (from pyproj->pyfesom2==0.2.0) (2024.8.30)\n",
      "Requirement already satisfied: click>=8.1 in /home/joe/miniconda3/envs/uop_sandbox/lib/python3.12/site-packages (from dask->pyfesom2==0.2.0) (8.1.7)\n",
      "Requirement already satisfied: cloudpickle>=3.0.0 in /home/joe/miniconda3/envs/uop_sandbox/lib/python3.12/site-packages (from dask->pyfesom2==0.2.0) (3.0.0)\n",
      "Requirement already satisfied: fsspec>=2021.09.0 in /home/joe/miniconda3/envs/uop_sandbox/lib/python3.12/site-packages (from dask->pyfesom2==0.2.0) (2024.6.1)\n",
      "Requirement already satisfied: partd>=1.4.0 in /home/joe/miniconda3/envs/uop_sandbox/lib/python3.12/site-packages (from dask->pyfesom2==0.2.0) (1.4.1)\n",
      "Requirement already satisfied: pyyaml>=5.3.1 in /home/joe/miniconda3/envs/uop_sandbox/lib/python3.12/site-packages (from dask->pyfesom2==0.2.0) (6.0.1)\n",
      "Requirement already satisfied: toolz>=0.10.0 in /home/joe/miniconda3/envs/uop_sandbox/lib/python3.12/site-packages (from dask->pyfesom2==0.2.0) (0.12.0)\n",
      "Requirement already satisfied: decorator in /home/joe/miniconda3/envs/uop_sandbox/lib/python3.12/site-packages (from ipython->pyfesom2==0.2.0) (5.1.1)\n",
      "Requirement already satisfied: jedi>=0.16 in /home/joe/miniconda3/envs/uop_sandbox/lib/python3.12/site-packages (from ipython->pyfesom2==0.2.0) (0.19.1)\n",
      "Requirement already satisfied: matplotlib-inline in /home/joe/miniconda3/envs/uop_sandbox/lib/python3.12/site-packages (from ipython->pyfesom2==0.2.0) (0.1.6)\n",
      "Requirement already satisfied: prompt-toolkit<3.1.0,>=3.0.41 in /home/joe/miniconda3/envs/uop_sandbox/lib/python3.12/site-packages (from ipython->pyfesom2==0.2.0) (3.0.43)\n",
      "Requirement already satisfied: pygments>=2.4.0 in /home/joe/miniconda3/envs/uop_sandbox/lib/python3.12/site-packages (from ipython->pyfesom2==0.2.0) (2.15.1)\n",
      "Requirement already satisfied: stack-data in /home/joe/miniconda3/envs/uop_sandbox/lib/python3.12/site-packages (from ipython->pyfesom2==0.2.0) (0.2.0)\n",
      "Requirement already satisfied: traitlets>=5.13.0 in /home/joe/miniconda3/envs/uop_sandbox/lib/python3.12/site-packages (from ipython->pyfesom2==0.2.0) (5.14.3)\n",
      "Requirement already satisfied: pexpect>4.3 in /home/joe/miniconda3/envs/uop_sandbox/lib/python3.12/site-packages (from ipython->pyfesom2==0.2.0) (4.8.0)\n",
      "Requirement already satisfied: notebook in /home/joe/miniconda3/envs/uop_sandbox/lib/python3.12/site-packages (from jupyter->pyfesom2==0.2.0) (7.2.2)\n",
      "Requirement already satisfied: qtconsole in /home/joe/miniconda3/envs/uop_sandbox/lib/python3.12/site-packages (from jupyter->pyfesom2==0.2.0) (5.5.1)\n",
      "Requirement already satisfied: jupyter-console in /home/joe/miniconda3/envs/uop_sandbox/lib/python3.12/site-packages (from jupyter->pyfesom2==0.2.0) (6.6.3)\n",
      "Requirement already satisfied: nbconvert in /home/joe/miniconda3/envs/uop_sandbox/lib/python3.12/site-packages (from jupyter->pyfesom2==0.2.0) (7.16.4)\n",
      "Requirement already satisfied: ipykernel in /home/joe/miniconda3/envs/uop_sandbox/lib/python3.12/site-packages (from jupyter->pyfesom2==0.2.0) (6.28.0)\n",
      "Requirement already satisfied: ipywidgets in /home/joe/miniconda3/envs/uop_sandbox/lib/python3.12/site-packages (from jupyter->pyfesom2==0.2.0) (7.8.1)\n",
      "Requirement already satisfied: cftime in /home/joe/miniconda3/envs/uop_sandbox/lib/python3.12/site-packages (from netCDF4->pyfesom2==0.2.0) (1.6.4)\n",
      "Requirement already satisfied: llvmlite<0.44,>=0.43.0dev0 in /home/joe/miniconda3/envs/uop_sandbox/lib/python3.12/site-packages (from numba->pyfesom2==0.2.0) (0.43.0)\n",
      "Requirement already satisfied: pytz>=2020.1 in /home/joe/miniconda3/envs/uop_sandbox/lib/python3.12/site-packages (from pandas->pyfesom2==0.2.0) (2024.1)\n",
      "Requirement already satisfied: tzdata>=2022.7 in /home/joe/miniconda3/envs/uop_sandbox/lib/python3.12/site-packages (from pandas->pyfesom2==0.2.0) (2023.3)\n",
      "Requirement already satisfied: setuptools>=3.2 in /home/joe/miniconda3/envs/uop_sandbox/lib/python3.12/site-packages (from pyresample->pyfesom2==0.2.0) (75.1.0)\n",
      "Requirement already satisfied: configobj in /home/joe/miniconda3/envs/uop_sandbox/lib/python3.12/site-packages (from pyresample->pyfesom2==0.2.0) (5.0.9)\n",
      "Requirement already satisfied: pykdtree>=1.3.1 in /home/joe/miniconda3/envs/uop_sandbox/lib/python3.12/site-packages (from pyresample->pyfesom2==0.2.0) (1.3.13)\n",
      "Requirement already satisfied: donfig in /home/joe/miniconda3/envs/uop_sandbox/lib/python3.12/site-packages (from pyresample->pyfesom2==0.2.0) (0.8.1.post1)\n",
      "Requirement already satisfied: platformdirs in /home/joe/miniconda3/envs/uop_sandbox/lib/python3.12/site-packages (from pyresample->pyfesom2==0.2.0) (3.10.0)\n",
      "Requirement already satisfied: iniconfig in /home/joe/miniconda3/envs/uop_sandbox/lib/python3.12/site-packages (from pytest->pyfesom2==0.2.0) (1.1.1)\n",
      "Requirement already satisfied: pluggy<2.0,>=0.12 in /home/joe/miniconda3/envs/uop_sandbox/lib/python3.12/site-packages (from pytest->pyfesom2==0.2.0) (1.0.0)\n",
      "Requirement already satisfied: parso<0.9.0,>=0.8.3 in /home/joe/miniconda3/envs/uop_sandbox/lib/python3.12/site-packages (from jedi>=0.16->ipython->pyfesom2==0.2.0) (0.8.3)\n",
      "Requirement already satisfied: locket in /home/joe/miniconda3/envs/uop_sandbox/lib/python3.12/site-packages (from partd>=1.4.0->dask->pyfesom2==0.2.0) (1.0.0)\n",
      "Requirement already satisfied: ptyprocess>=0.5 in /home/joe/miniconda3/envs/uop_sandbox/lib/python3.12/site-packages (from pexpect>4.3->ipython->pyfesom2==0.2.0) (0.7.0)\n",
      "Requirement already satisfied: wcwidth in /home/joe/miniconda3/envs/uop_sandbox/lib/python3.12/site-packages (from prompt-toolkit<3.1.0,>=3.0.41->ipython->pyfesom2==0.2.0) (0.2.5)\n",
      "Requirement already satisfied: six>=1.5 in /home/joe/miniconda3/envs/uop_sandbox/lib/python3.12/site-packages (from python-dateutil>=2.7->matplotlib->pyfesom2==0.2.0) (1.16.0)\n",
      "Requirement already satisfied: comm>=0.1.1 in /home/joe/miniconda3/envs/uop_sandbox/lib/python3.12/site-packages (from ipykernel->jupyter->pyfesom2==0.2.0) (0.2.1)\n",
      "Requirement already satisfied: debugpy>=1.6.5 in /home/joe/miniconda3/envs/uop_sandbox/lib/python3.12/site-packages (from ipykernel->jupyter->pyfesom2==0.2.0) (1.6.7)\n",
      "Requirement already satisfied: jupyter-client>=6.1.12 in /home/joe/miniconda3/envs/uop_sandbox/lib/python3.12/site-packages (from ipykernel->jupyter->pyfesom2==0.2.0) (8.6.0)\n",
      "Requirement already satisfied: jupyter-core!=5.0.*,>=4.12 in /home/joe/miniconda3/envs/uop_sandbox/lib/python3.12/site-packages (from ipykernel->jupyter->pyfesom2==0.2.0) (5.7.2)\n",
      "Requirement already satisfied: nest-asyncio in /home/joe/miniconda3/envs/uop_sandbox/lib/python3.12/site-packages (from ipykernel->jupyter->pyfesom2==0.2.0) (1.6.0)\n",
      "Requirement already satisfied: psutil in /home/joe/miniconda3/envs/uop_sandbox/lib/python3.12/site-packages (from ipykernel->jupyter->pyfesom2==0.2.0) (5.9.0)\n",
      "Requirement already satisfied: pyzmq>=24 in /home/joe/miniconda3/envs/uop_sandbox/lib/python3.12/site-packages (from ipykernel->jupyter->pyfesom2==0.2.0) (25.1.2)\n",
      "Requirement already satisfied: tornado>=6.1 in /home/joe/miniconda3/envs/uop_sandbox/lib/python3.12/site-packages (from ipykernel->jupyter->pyfesom2==0.2.0) (6.4.1)\n",
      "Requirement already satisfied: ipython-genutils~=0.2.0 in /home/joe/miniconda3/envs/uop_sandbox/lib/python3.12/site-packages (from ipywidgets->jupyter->pyfesom2==0.2.0) (0.2.0)\n",
      "Requirement already satisfied: widgetsnbextension~=3.6.6 in /home/joe/miniconda3/envs/uop_sandbox/lib/python3.12/site-packages (from ipywidgets->jupyter->pyfesom2==0.2.0) (3.6.6)\n",
      "Requirement already satisfied: jupyterlab-widgets<3,>=1.0.0 in /home/joe/miniconda3/envs/uop_sandbox/lib/python3.12/site-packages (from ipywidgets->jupyter->pyfesom2==0.2.0) (1.0.0)\n",
      "Requirement already satisfied: beautifulsoup4 in /home/joe/miniconda3/envs/uop_sandbox/lib/python3.12/site-packages (from nbconvert->jupyter->pyfesom2==0.2.0) (4.12.3)\n",
      "Requirement already satisfied: bleach!=5.0.0 in /home/joe/miniconda3/envs/uop_sandbox/lib/python3.12/site-packages (from nbconvert->jupyter->pyfesom2==0.2.0) (4.1.0)\n",
      "Requirement already satisfied: defusedxml in /home/joe/miniconda3/envs/uop_sandbox/lib/python3.12/site-packages (from nbconvert->jupyter->pyfesom2==0.2.0) (0.7.1)\n",
      "Requirement already satisfied: jinja2>=3.0 in /home/joe/miniconda3/envs/uop_sandbox/lib/python3.12/site-packages (from nbconvert->jupyter->pyfesom2==0.2.0) (3.1.4)\n",
      "Requirement already satisfied: jupyterlab-pygments in /home/joe/miniconda3/envs/uop_sandbox/lib/python3.12/site-packages (from nbconvert->jupyter->pyfesom2==0.2.0) (0.1.2)\n",
      "Requirement already satisfied: markupsafe>=2.0 in /home/joe/miniconda3/envs/uop_sandbox/lib/python3.12/site-packages (from nbconvert->jupyter->pyfesom2==0.2.0) (2.1.3)\n",
      "Requirement already satisfied: mistune<4,>=2.0.3 in /home/joe/miniconda3/envs/uop_sandbox/lib/python3.12/site-packages (from nbconvert->jupyter->pyfesom2==0.2.0) (2.0.4)\n",
      "Requirement already satisfied: nbclient>=0.5.0 in /home/joe/miniconda3/envs/uop_sandbox/lib/python3.12/site-packages (from nbconvert->jupyter->pyfesom2==0.2.0) (0.8.0)\n",
      "Requirement already satisfied: nbformat>=5.7 in /home/joe/miniconda3/envs/uop_sandbox/lib/python3.12/site-packages (from nbconvert->jupyter->pyfesom2==0.2.0) (5.10.4)\n",
      "Requirement already satisfied: pandocfilters>=1.4.1 in /home/joe/miniconda3/envs/uop_sandbox/lib/python3.12/site-packages (from nbconvert->jupyter->pyfesom2==0.2.0) (1.5.0)\n",
      "Requirement already satisfied: tinycss2 in /home/joe/miniconda3/envs/uop_sandbox/lib/python3.12/site-packages (from nbconvert->jupyter->pyfesom2==0.2.0) (1.2.1)\n",
      "Requirement already satisfied: jupyter-server<3,>=2.4.0 in /home/joe/miniconda3/envs/uop_sandbox/lib/python3.12/site-packages (from notebook->jupyter->pyfesom2==0.2.0) (2.14.1)\n",
      "Requirement already satisfied: jupyterlab-server<3,>=2.27.1 in /home/joe/miniconda3/envs/uop_sandbox/lib/python3.12/site-packages (from notebook->jupyter->pyfesom2==0.2.0) (2.27.3)\n",
      "Requirement already satisfied: jupyterlab<4.3,>=4.2.0 in /home/joe/miniconda3/envs/uop_sandbox/lib/python3.12/site-packages (from notebook->jupyter->pyfesom2==0.2.0) (4.2.5)\n",
      "Requirement already satisfied: notebook-shim<0.3,>=0.2 in /home/joe/miniconda3/envs/uop_sandbox/lib/python3.12/site-packages (from notebook->jupyter->pyfesom2==0.2.0) (0.2.3)\n",
      "Requirement already satisfied: qtpy>=2.4.0 in /home/joe/miniconda3/envs/uop_sandbox/lib/python3.12/site-packages (from qtconsole->jupyter->pyfesom2==0.2.0) (2.4.1)\n",
      "Requirement already satisfied: executing in /home/joe/miniconda3/envs/uop_sandbox/lib/python3.12/site-packages (from stack-data->ipython->pyfesom2==0.2.0) (0.8.3)\n",
      "Requirement already satisfied: asttokens in /home/joe/miniconda3/envs/uop_sandbox/lib/python3.12/site-packages (from stack-data->ipython->pyfesom2==0.2.0) (2.0.5)\n",
      "Requirement already satisfied: pure-eval in /home/joe/miniconda3/envs/uop_sandbox/lib/python3.12/site-packages (from stack-data->ipython->pyfesom2==0.2.0) (0.2.2)\n",
      "Requirement already satisfied: webencodings in /home/joe/miniconda3/envs/uop_sandbox/lib/python3.12/site-packages (from bleach!=5.0.0->nbconvert->jupyter->pyfesom2==0.2.0) (0.5.1)\n",
      "Requirement already satisfied: anyio>=3.1.0 in /home/joe/miniconda3/envs/uop_sandbox/lib/python3.12/site-packages (from jupyter-server<3,>=2.4.0->notebook->jupyter->pyfesom2==0.2.0) (4.2.0)\n",
      "Requirement already satisfied: argon2-cffi>=21.1 in /home/joe/miniconda3/envs/uop_sandbox/lib/python3.12/site-packages (from jupyter-server<3,>=2.4.0->notebook->jupyter->pyfesom2==0.2.0) (21.3.0)\n",
      "Requirement already satisfied: jupyter-events>=0.9.0 in /home/joe/miniconda3/envs/uop_sandbox/lib/python3.12/site-packages (from jupyter-server<3,>=2.4.0->notebook->jupyter->pyfesom2==0.2.0) (0.10.0)\n",
      "Requirement already satisfied: jupyter-server-terminals>=0.4.4 in /home/joe/miniconda3/envs/uop_sandbox/lib/python3.12/site-packages (from jupyter-server<3,>=2.4.0->notebook->jupyter->pyfesom2==0.2.0) (0.4.4)\n",
      "Requirement already satisfied: overrides>=5.0 in /home/joe/miniconda3/envs/uop_sandbox/lib/python3.12/site-packages (from jupyter-server<3,>=2.4.0->notebook->jupyter->pyfesom2==0.2.0) (7.4.0)\n",
      "Requirement already satisfied: prometheus-client>=0.9 in /home/joe/miniconda3/envs/uop_sandbox/lib/python3.12/site-packages (from jupyter-server<3,>=2.4.0->notebook->jupyter->pyfesom2==0.2.0) (0.14.1)\n",
      "Requirement already satisfied: send2trash>=1.8.2 in /home/joe/miniconda3/envs/uop_sandbox/lib/python3.12/site-packages (from jupyter-server<3,>=2.4.0->notebook->jupyter->pyfesom2==0.2.0) (1.8.2)\n",
      "Requirement already satisfied: terminado>=0.8.3 in /home/joe/miniconda3/envs/uop_sandbox/lib/python3.12/site-packages (from jupyter-server<3,>=2.4.0->notebook->jupyter->pyfesom2==0.2.0) (0.17.1)\n",
      "Requirement already satisfied: websocket-client>=1.7 in /home/joe/miniconda3/envs/uop_sandbox/lib/python3.12/site-packages (from jupyter-server<3,>=2.4.0->notebook->jupyter->pyfesom2==0.2.0) (1.8.0)\n",
      "Requirement already satisfied: async-lru>=1.0.0 in /home/joe/miniconda3/envs/uop_sandbox/lib/python3.12/site-packages (from jupyterlab<4.3,>=4.2.0->notebook->jupyter->pyfesom2==0.2.0) (2.0.4)\n",
      "Requirement already satisfied: httpx>=0.25.0 in /home/joe/miniconda3/envs/uop_sandbox/lib/python3.12/site-packages (from jupyterlab<4.3,>=4.2.0->notebook->jupyter->pyfesom2==0.2.0) (0.27.0)\n",
      "Requirement already satisfied: jupyter-lsp>=2.0.0 in /home/joe/miniconda3/envs/uop_sandbox/lib/python3.12/site-packages (from jupyterlab<4.3,>=4.2.0->notebook->jupyter->pyfesom2==0.2.0) (2.2.0)\n",
      "Requirement already satisfied: babel>=2.10 in /home/joe/miniconda3/envs/uop_sandbox/lib/python3.12/site-packages (from jupyterlab-server<3,>=2.27.1->notebook->jupyter->pyfesom2==0.2.0) (2.11.0)\n",
      "Requirement already satisfied: json5>=0.9.0 in /home/joe/miniconda3/envs/uop_sandbox/lib/python3.12/site-packages (from jupyterlab-server<3,>=2.27.1->notebook->jupyter->pyfesom2==0.2.0) (0.9.6)\n",
      "Requirement already satisfied: jsonschema>=4.18.0 in /home/joe/miniconda3/envs/uop_sandbox/lib/python3.12/site-packages (from jupyterlab-server<3,>=2.27.1->notebook->jupyter->pyfesom2==0.2.0) (4.19.2)\n",
      "Requirement already satisfied: requests>=2.31 in /home/joe/miniconda3/envs/uop_sandbox/lib/python3.12/site-packages (from jupyterlab-server<3,>=2.27.1->notebook->jupyter->pyfesom2==0.2.0) (2.32.3)\n",
      "Requirement already satisfied: fastjsonschema>=2.15 in /home/joe/miniconda3/envs/uop_sandbox/lib/python3.12/site-packages (from nbformat>=5.7->nbconvert->jupyter->pyfesom2==0.2.0) (2.16.2)\n",
      "Requirement already satisfied: soupsieve>1.2 in /home/joe/miniconda3/envs/uop_sandbox/lib/python3.12/site-packages (from beautifulsoup4->nbconvert->jupyter->pyfesom2==0.2.0) (2.5)\n",
      "Requirement already satisfied: idna>=2.8 in /home/joe/miniconda3/envs/uop_sandbox/lib/python3.12/site-packages (from anyio>=3.1.0->jupyter-server<3,>=2.4.0->notebook->jupyter->pyfesom2==0.2.0) (3.7)\n",
      "Requirement already satisfied: sniffio>=1.1 in /home/joe/miniconda3/envs/uop_sandbox/lib/python3.12/site-packages (from anyio>=3.1.0->jupyter-server<3,>=2.4.0->notebook->jupyter->pyfesom2==0.2.0) (1.3.0)\n",
      "Requirement already satisfied: argon2-cffi-bindings in /home/joe/miniconda3/envs/uop_sandbox/lib/python3.12/site-packages (from argon2-cffi>=21.1->jupyter-server<3,>=2.4.0->notebook->jupyter->pyfesom2==0.2.0) (21.2.0)\n",
      "Requirement already satisfied: httpcore==1.* in /home/joe/miniconda3/envs/uop_sandbox/lib/python3.12/site-packages (from httpx>=0.25.0->jupyterlab<4.3,>=4.2.0->notebook->jupyter->pyfesom2==0.2.0) (1.0.2)\n",
      "Requirement already satisfied: h11<0.15,>=0.13 in /home/joe/miniconda3/envs/uop_sandbox/lib/python3.12/site-packages (from httpcore==1.*->httpx>=0.25.0->jupyterlab<4.3,>=4.2.0->notebook->jupyter->pyfesom2==0.2.0) (0.14.0)\n",
      "Requirement already satisfied: attrs>=22.2.0 in /home/joe/miniconda3/envs/uop_sandbox/lib/python3.12/site-packages (from jsonschema>=4.18.0->jupyterlab-server<3,>=2.27.1->notebook->jupyter->pyfesom2==0.2.0) (23.1.0)\n",
      "Requirement already satisfied: jsonschema-specifications>=2023.03.6 in /home/joe/miniconda3/envs/uop_sandbox/lib/python3.12/site-packages (from jsonschema>=4.18.0->jupyterlab-server<3,>=2.27.1->notebook->jupyter->pyfesom2==0.2.0) (2023.7.1)\n",
      "Requirement already satisfied: referencing>=0.28.4 in /home/joe/miniconda3/envs/uop_sandbox/lib/python3.12/site-packages (from jsonschema>=4.18.0->jupyterlab-server<3,>=2.27.1->notebook->jupyter->pyfesom2==0.2.0) (0.30.2)\n",
      "Requirement already satisfied: rpds-py>=0.7.1 in /home/joe/miniconda3/envs/uop_sandbox/lib/python3.12/site-packages (from jsonschema>=4.18.0->jupyterlab-server<3,>=2.27.1->notebook->jupyter->pyfesom2==0.2.0) (0.10.6)\n",
      "Requirement already satisfied: python-json-logger>=2.0.4 in /home/joe/miniconda3/envs/uop_sandbox/lib/python3.12/site-packages (from jupyter-events>=0.9.0->jupyter-server<3,>=2.4.0->notebook->jupyter->pyfesom2==0.2.0) (2.0.7)\n",
      "Requirement already satisfied: rfc3339-validator in /home/joe/miniconda3/envs/uop_sandbox/lib/python3.12/site-packages (from jupyter-events>=0.9.0->jupyter-server<3,>=2.4.0->notebook->jupyter->pyfesom2==0.2.0) (0.1.4)\n",
      "Requirement already satisfied: rfc3986-validator>=0.1.1 in /home/joe/miniconda3/envs/uop_sandbox/lib/python3.12/site-packages (from jupyter-events>=0.9.0->jupyter-server<3,>=2.4.0->notebook->jupyter->pyfesom2==0.2.0) (0.1.1)\n",
      "Requirement already satisfied: charset-normalizer<4,>=2 in /home/joe/miniconda3/envs/uop_sandbox/lib/python3.12/site-packages (from requests>=2.31->jupyterlab-server<3,>=2.27.1->notebook->jupyter->pyfesom2==0.2.0) (3.3.2)\n",
      "Requirement already satisfied: urllib3<3,>=1.21.1 in /home/joe/miniconda3/envs/uop_sandbox/lib/python3.12/site-packages (from requests>=2.31->jupyterlab-server<3,>=2.27.1->notebook->jupyter->pyfesom2==0.2.0) (2.2.3)\n",
      "Requirement already satisfied: fqdn in /home/joe/miniconda3/envs/uop_sandbox/lib/python3.12/site-packages (from jsonschema[format-nongpl]>=4.18.0->jupyter-events>=0.9.0->jupyter-server<3,>=2.4.0->notebook->jupyter->pyfesom2==0.2.0) (1.5.1)\n",
      "Requirement already satisfied: isoduration in /home/joe/miniconda3/envs/uop_sandbox/lib/python3.12/site-packages (from jsonschema[format-nongpl]>=4.18.0->jupyter-events>=0.9.0->jupyter-server<3,>=2.4.0->notebook->jupyter->pyfesom2==0.2.0) (20.11.0)\n",
      "Requirement already satisfied: jsonpointer>1.13 in /home/joe/miniconda3/envs/uop_sandbox/lib/python3.12/site-packages (from jsonschema[format-nongpl]>=4.18.0->jupyter-events>=0.9.0->jupyter-server<3,>=2.4.0->notebook->jupyter->pyfesom2==0.2.0) (3.0.0)\n",
      "Requirement already satisfied: uri-template in /home/joe/miniconda3/envs/uop_sandbox/lib/python3.12/site-packages (from jsonschema[format-nongpl]>=4.18.0->jupyter-events>=0.9.0->jupyter-server<3,>=2.4.0->notebook->jupyter->pyfesom2==0.2.0) (1.3.0)\n",
      "Requirement already satisfied: webcolors>=1.11 in /home/joe/miniconda3/envs/uop_sandbox/lib/python3.12/site-packages (from jsonschema[format-nongpl]>=4.18.0->jupyter-events>=0.9.0->jupyter-server<3,>=2.4.0->notebook->jupyter->pyfesom2==0.2.0) (24.8.0)\n",
      "Requirement already satisfied: cffi>=1.0.1 in /home/joe/miniconda3/envs/uop_sandbox/lib/python3.12/site-packages (from argon2-cffi-bindings->argon2-cffi>=21.1->jupyter-server<3,>=2.4.0->notebook->jupyter->pyfesom2==0.2.0) (1.17.1)\n",
      "Requirement already satisfied: pycparser in /home/joe/miniconda3/envs/uop_sandbox/lib/python3.12/site-packages (from cffi>=1.0.1->argon2-cffi-bindings->argon2-cffi>=21.1->jupyter-server<3,>=2.4.0->notebook->jupyter->pyfesom2==0.2.0) (2.21)\n",
      "Requirement already satisfied: arrow>=0.15.0 in /home/joe/miniconda3/envs/uop_sandbox/lib/python3.12/site-packages (from isoduration->jsonschema[format-nongpl]>=4.18.0->jupyter-events>=0.9.0->jupyter-server<3,>=2.4.0->notebook->jupyter->pyfesom2==0.2.0) (1.2.3)\n",
      "Downloading pymap3d-3.1.0-py3-none-any.whl (60 kB)\n",
      "Installing collected packages: pymap3d, pyfesom2\n",
      "\u001b[33m  DEPRECATION: Legacy editable install of pyfesom2==0.2.0 from file:///home/joe/projects/geomar/unstructured-mesh-parcels-sandbox/notebooks/pyfesom2 (setup.py develop) is deprecated. pip 25.0 will enforce this behaviour change. A possible replacement is to add a pyproject.toml or enable --use-pep517, and use setuptools >= 64. If the resulting installation is not behaving as expected, try using --config-settings editable_mode=compat. Please consult the setuptools documentation for more information. Discussion can be found at https://github.com/pypa/pip/issues/11457\u001b[0m\u001b[33m\n",
      "\u001b[0m  Running setup.py develop for pyfesom2\n",
      "Successfully installed pyfesom2-0.2.0 pymap3d-3.1.0\n"
     ]
    }
   ],
   "source": [
    "! git clone https://github.com/FESOM/pyfesom2.git ./pyfesom2\n",
    "# Check out specific commit that has ascii_to_netcdf\n",
    "! cd pyfesom2 && git checkout 7f21a30e0ef80e44f5e9cd23b2a78b63ddb9d4d8 -b dev && cd -\n",
    "! pip install -e ./pyfesom2"
   ]
  },
  {
   "cell_type": "code",
   "execution_count": 1,
   "id": "c7fe8e3d-f9ea-4d29-a352-e3a68cae2551",
   "metadata": {},
   "outputs": [
    {
     "name": "stdout",
     "output_type": "stream",
     "text": [
      "accessor.py\t    diagnostics.py\tpfinterp.py    transect.py\n",
      "ascii_to_netcdf.py  fesom2GeoFormat.py\tpfplot.py      transport.py\n",
      "climatology.py\t    geojson\t\tplotting.py    ut.py\n",
      "config.py\t    __init__.py\t\tpyfesom2.py\n",
      "datasets.py\t    load_mesh_data.py\tregridding.py\n",
      "# -*- coding: utf-8 -*-\n",
      "#\n",
      "# This file is part of pyfesom2\n",
      "# Original code by Dmitry Sidorenko, Qiang Wang, Sergey Danilov and Patrick Scholz\n",
      "#\n",
      "\n",
      "\"\"\"Top-level package for pyfesom2.\"\"\"\n",
      "\n",
      "__author__ = \"\"\"FESOM team\"\"\"\n",
      "__email__ = \"koldunovn@gmail.com\"\n",
      "__version__ = \"0.1.0\"\n",
      "\n",
      "from .load_mesh_data import *\n",
      "from .plotting import *\n",
      "from .climatology import *\n",
      "from .regridding import *\n",
      "from .transect import *\n",
      "from .diagnostics import *\n",
      "from .ut import *\n",
      "from .fesom2GeoFormat import *\n",
      "from .datasets import open_dataset\n",
      "from .accessor import FESOMDataArray as _FESOMDataArray\n",
      "from .transport import cross_section_transport\n",
      "from .ascii_to_netcdf import read_fesom_ascii_grid, write_mesh_to_netcdf\n"
     ]
    }
   ],
   "source": [
    "! ls pyfesom2/pyfesom2\n",
    "! cat pyfesom2/pyfesom2/__init__.py"
   ]
  },
  {
   "cell_type": "code",
   "execution_count": 2,
   "id": "548ec470-1360-4c4f-b933-b147cba4b5b4",
   "metadata": {},
   "outputs": [
    {
     "name": "stderr",
     "output_type": "stream",
     "text": [
      "/home/joe/projects/geomar/unstructured-mesh-parcels-sandbox/notebooks/pyfesom2/pyfesom2/climatology.py:14: UserWarning: The seawater library is deprecated! Please use gsw instead.\n",
      "  import seawater as sw\n"
     ]
    },
    {
     "name": "stdout",
     "output_type": "stream",
     "text": [
      "osgeo is not installed, conversion to Geo formats like Geotiff (fesom2GeoFormat) will not work.\n",
      "0.1.0\n",
      "['CloughTocher2DInterpolator', 'Dataset', 'LinearNDInterpolator', 'LinearSegmentedColormap', 'MFDataset', 'OrderedDict', '_FESOMDataArray', '__author__', '__builtins__', '__cached__', '__doc__', '__email__', '__file__', '__loader__', '__name__', '__package__', '__path__', '__spec__', '__version__', 'accessor', 'add_cyclic_point', 'add_timedim', 'array2raster', 'ascii_to_netcdf', 'cKDTree', 'calculate_initial_compass_bearing', 'ccrs', 'cfeature', 'clim2regular', 'climatology', 'cm', 'cmo', 'compute_face_coords', 'create_indexes_and_distances', 'create_proj_figure', 'cross_section_transport', 'cut_region', 'dataShape', 'datasets', 'diagnostics', 'fesom2GeoFormat', 'fesom2clim', 'fesom2regular', 'fesom_mesh', 'g', 'get_cmap', 'get_data', 'get_mask', 'get_meshdiag', 'get_no_cyclic', 'get_plot_levels', 'get_transect', 'get_transect_uv', 'get_vector_forplot', 'grid', 'hofm_plot', 'hovm_data', 'ice_area', 'ice_ext', 'ice_vol', 'ind_for_depth', 'interpolate_for_plot', 'jit', 'joblib', 'json', 'levels_to_data', 'load_mesh', 'load_mesh_data', 'logging', 'lon_lat_to_cartesian', 'mask_from_file', 'mask_ne', 'math', 'mpl', 'mt', 'namedtuple', 'nanmean', 'np', 'num2date', 'open_dataset', 'os', 'pd', 'pickle', 'pkg_resources', 'plot', 'plot_transect', 'plot_transect_map', 'plot_vector', 'plot_xyz', 'plotting', 'plt', 'pyproj', 'pyresample', 'qhull', 'read_fesom_ascii_grid', 'register_matplotlib_converters', 'regridding', 'regular2clim', 'regular2regular', 'sc', 'scalar_g2r', 'scalar_r2g', 'scipy', 'select_depths', 'select_slices', 'set_standard_attrs', 'sfmt', 'shapely', 'shiftedColorMap', 'sw', 'sys', 'ticker', 'time', 'tonodes', 'tonodes3d', 'tonodes_jit', 'tplot', 'transect', 'transect_get_data', 'transect_get_distance', 'transect_get_lonlat', 'transect_get_mask', 'transect_get_nodes', 'transect_uv', 'transport', 'tunnel_fast1d', 'ut', 'vec_rotate_g2r', 'vec_rotate_r2g', 'volmean_data', 'write_mesh_to_netcdf', 'xmoc_data', 'xr', 'xyz_plot_many', 'xyz_plot_one']\n"
     ]
    }
   ],
   "source": [
    "import pyfesom2\n",
    "\n",
    "print(pyfesom2.__version__)\n",
    "print(dir(pyfesom2))"
   ]
  },
  {
   "cell_type": "code",
   "execution_count": 4,
   "id": "c6becce1-b5e3-4fa4-a7c9-e628bfed2a51",
   "metadata": {},
   "outputs": [
    {
     "name": "stdout",
     "output_type": "stream",
     "text": [
      "reading node (grid point) coordinates and coast information ...\n",
      "... done. grid contains 2875 nodes of which 50.0 are coastal (according to info in nod2d.out).\n",
      "... execution Time: 0.0 seconds\n",
      "reading neighbourhood (triangular elements) information ...\n",
      "... done. grid contains 5700 triangular elements.\n",
      "... execution Time: 0.0 seconds\n",
      "reordering clockwise triangular elements counterclockwise ...\n",
      "... done. 5472 of 5700 elements reordered.\n",
      "... execution Time: 0.11 seconds\n",
      "reading 3D information ...\n",
      "... done. Grid over all levels contains 115000 elements.\n",
      "... execution Time: 0.0 seconds\n",
      "searching all neighbors of each node based on the triangular elements ...\n",
      "... done. number of neighbors ranges from 4 to 6 nodes and is 5.9652 on average.\n",
      "... execution Time: 0.13 seconds\n",
      "determining which elements include coastal nodes ...\n",
      "... done. grid features 50 elements that contain coastal nodes.\n",
      "... execution Time: 0.01 seconds\n",
      "computing barycenters (centroids) for all triangular elements ...\n",
      "... done.\n",
      "... execution Time: 0.09 seconds\n",
      "generate 'stamp polygons' around each node ...\n",
      "... done. number of 'stamp polygon' vertices per node ranges from 8 (before padding) to 12 and is 11.9304 on average (before padding).\n",
      "... execution Time: 0.33 seconds\n",
      "computing element and 'stamp polygon' areas ...\n",
      "... done.\n",
      "... execution Time: 0.79 seconds\n",
      "the grid has 2875 nodes (grid points) with up to 12 stamp polygon vertices per node.\n",
      "the grid has 41 vertical levels.\n",
      "Horizontal grid description file complete.\n",
      "You can use this file to set the horizontal grid of a corresponding NetCDF file with 'cdo setgrid,./data/fesom2_soufflet.nc ifile.nc ofile.nc'.\n"
     ]
    },
    {
     "name": "stderr",
     "output_type": "stream",
     "text": [
      "/home/joe/projects/geomar/unstructured-mesh-parcels-sandbox/notebooks/pyfesom2/pyfesom2/ascii_to_netcdf.py:690: RuntimeWarning: invalid value encountered in cast\n",
      "  var[:] = vals\n"
     ]
    }
   ],
   "source": [
    "grid = pyfesom2.read_fesom_ascii_grid( \"./fesom2/test/meshes/soufflet/\")\n",
    "\n",
    "pyfesom2.write_mesh_to_netcdf(grid,ofile=\"./data/fesom2_soufflet.nc\")"
   ]
  },
  {
   "cell_type": "markdown",
   "id": "b6f5711f-4c92-4bf5-aade-d8168b1c49f9",
   "metadata": {},
   "source": [
    "## Reading FESOM2 NetCDF with UXArray"
   ]
  },
  {
   "cell_type": "code",
   "execution_count": 5,
   "id": "cd1be0f2-b862-4917-b991-3a3be4f6cb14",
   "metadata": {},
   "outputs": [
    {
     "name": "stdout",
     "output_type": "stream",
     "text": [
      "2024.8.2\n"
     ]
    },
    {
     "ename": "RuntimeError",
     "evalue": "Could not recognize dataset format.",
     "output_type": "error",
     "traceback": [
      "\u001b[0;31m---------------------------------------------------------------------------\u001b[0m",
      "\u001b[0;31mRuntimeError\u001b[0m                              Traceback (most recent call last)",
      "Cell \u001b[0;32mIn[5], line 6\u001b[0m\n\u001b[1;32m      3\u001b[0m \u001b[38;5;28mprint\u001b[39m(ux\u001b[38;5;241m.\u001b[39m__version__)\n\u001b[1;32m      4\u001b[0m grid_path\u001b[38;5;241m=\u001b[39m\u001b[38;5;124m\"\u001b[39m\u001b[38;5;124m./data/fesom2_soufflet.nc\u001b[39m\u001b[38;5;124m\"\u001b[39m\n\u001b[0;32m----> 6\u001b[0m uxds \u001b[38;5;241m=\u001b[39m ux\u001b[38;5;241m.\u001b[39mopen_grid(grid_path)\n\u001b[1;32m      7\u001b[0m uxds\n",
      "File \u001b[0;32m~/miniconda3/envs/uop_sandbox/lib/python3.12/site-packages/uxarray/core/api.py:88\u001b[0m, in \u001b[0;36mopen_grid\u001b[0;34m(grid_filename_or_obj, latlon, use_dual, **kwargs)\u001b[0m\n\u001b[1;32m     85\u001b[0m \u001b[38;5;28;01mtry\u001b[39;00m:\n\u001b[1;32m     86\u001b[0m     grid_ds \u001b[38;5;241m=\u001b[39m xr\u001b[38;5;241m.\u001b[39mopen_dataset(grid_filename_or_obj, \u001b[38;5;241m*\u001b[39m\u001b[38;5;241m*\u001b[39mkwargs)\n\u001b[0;32m---> 88\u001b[0m     uxgrid \u001b[38;5;241m=\u001b[39m Grid\u001b[38;5;241m.\u001b[39mfrom_dataset(grid_ds, use_dual\u001b[38;5;241m=\u001b[39muse_dual)\n\u001b[1;32m     89\u001b[0m \u001b[38;5;28;01mexcept\u001b[39;00m \u001b[38;5;167;01mValueError\u001b[39;00m:\n\u001b[1;32m     90\u001b[0m     \u001b[38;5;28;01mraise\u001b[39;00m \u001b[38;5;167;01mValueError\u001b[39;00m(\u001b[38;5;124m\"\u001b[39m\u001b[38;5;124mInputted grid_filename_or_obj not supported.\u001b[39m\u001b[38;5;124m\"\u001b[39m)\n",
      "File \u001b[0;32m~/miniconda3/envs/uop_sandbox/lib/python3.12/site-packages/uxarray/grid/grid.py:207\u001b[0m, in \u001b[0;36mGrid.from_dataset\u001b[0;34m(cls, dataset, use_dual, **kwargs)\u001b[0m\n\u001b[1;32m    202\u001b[0m \u001b[38;5;66;03m# determine grid/mesh specification\u001b[39;00m\n\u001b[1;32m    204\u001b[0m \u001b[38;5;28;01mif\u001b[39;00m \u001b[38;5;124m\"\u001b[39m\u001b[38;5;124msource_grid_spec\u001b[39m\u001b[38;5;124m\"\u001b[39m \u001b[38;5;129;01mnot\u001b[39;00m \u001b[38;5;129;01min\u001b[39;00m kwargs:\n\u001b[1;32m    205\u001b[0m     \u001b[38;5;66;03m# parse to detect source grid spec\u001b[39;00m\n\u001b[0;32m--> 207\u001b[0m     source_grid_spec \u001b[38;5;241m=\u001b[39m _parse_grid_type(dataset)\n\u001b[1;32m    208\u001b[0m     \u001b[38;5;28;01mif\u001b[39;00m source_grid_spec \u001b[38;5;241m==\u001b[39m \u001b[38;5;124m\"\u001b[39m\u001b[38;5;124mExodus\u001b[39m\u001b[38;5;124m\"\u001b[39m:\n\u001b[1;32m    209\u001b[0m         grid_ds, source_dims_dict \u001b[38;5;241m=\u001b[39m _read_exodus(dataset)\n",
      "File \u001b[0;32m~/miniconda3/envs/uop_sandbox/lib/python3.12/site-packages/uxarray/io/utils.py:46\u001b[0m, in \u001b[0;36m_parse_grid_type\u001b[0;34m(dataset)\u001b[0m\n\u001b[1;32m     44\u001b[0m     mesh_type \u001b[38;5;241m=\u001b[39m \u001b[38;5;124m\"\u001b[39m\u001b[38;5;124mICON\u001b[39m\u001b[38;5;124m\"\u001b[39m\n\u001b[1;32m     45\u001b[0m \u001b[38;5;28;01melse\u001b[39;00m:\n\u001b[0;32m---> 46\u001b[0m     \u001b[38;5;28;01mraise\u001b[39;00m \u001b[38;5;167;01mRuntimeError\u001b[39;00m(\u001b[38;5;124m\"\u001b[39m\u001b[38;5;124mCould not recognize dataset format.\u001b[39m\u001b[38;5;124m\"\u001b[39m)\n\u001b[1;32m     47\u001b[0m \u001b[38;5;28;01mreturn\u001b[39;00m mesh_type\n",
      "\u001b[0;31mRuntimeError\u001b[0m: Could not recognize dataset format."
     ]
    }
   ],
   "source": [
    "import uxarray as ux\n",
    "\n",
    "print(ux.__version__)\n",
    "grid_path=\"./data/fesom2_soufflet.nc\"\n",
    "\n",
    "uxds = ux.open_grid(grid_path)\n",
    "uxds"
   ]
  },
  {
   "cell_type": "code",
   "execution_count": null,
   "id": "7c4648e8-03fc-4068-a831-240dc3b2cd70",
   "metadata": {},
   "outputs": [],
   "source": []
  }
 ],
 "metadata": {
  "kernelspec": {
   "display_name": "Python 3 (ipykernel)",
   "language": "python",
   "name": "python3"
  },
  "language_info": {
   "codemirror_mode": {
    "name": "ipython",
    "version": 3
   },
   "file_extension": ".py",
   "mimetype": "text/x-python",
   "name": "python",
   "nbconvert_exporter": "python",
   "pygments_lexer": "ipython3",
   "version": "3.12.7"
  }
 },
 "nbformat": 4,
 "nbformat_minor": 5
}
